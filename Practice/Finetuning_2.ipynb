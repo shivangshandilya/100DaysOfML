{
  "nbformat": 4,
  "nbformat_minor": 0,
  "metadata": {
    "colab": {
      "provenance": [],
      "gpuType": "T4"
    },
    "kernelspec": {
      "name": "python3",
      "display_name": "Python 3"
    },
    "language_info": {
      "name": "python"
    },
    "accelerator": "GPU"
  },
  "cells": [
    {
      "cell_type": "markdown",
      "source": [
        "# Fine-Tuning BERT for Phishing URL Identification"
      ],
      "metadata": {
        "id": "gJFIJulzaWAc"
      }
    },
    {
      "cell_type": "code",
      "source": [
        "!pip install transformers peft trl evaluate datasets"
      ],
      "metadata": {
        "colab": {
          "base_uri": "https://localhost:8080/"
        },
        "collapsed": true,
        "id": "Wr2WOVZya2yg",
        "outputId": "d9816c5a-c116-4606-9e56-c0f393d97e55"
      },
      "execution_count": 1,
      "outputs": [
        {
          "output_type": "stream",
          "name": "stdout",
          "text": [
            "Requirement already satisfied: transformers in /usr/local/lib/python3.12/dist-packages (4.55.4)\n",
            "Requirement already satisfied: peft in /usr/local/lib/python3.12/dist-packages (0.17.1)\n",
            "Collecting trl\n",
            "  Downloading trl-0.22.1-py3-none-any.whl.metadata (11 kB)\n",
            "Collecting evaluate\n",
            "  Downloading evaluate-0.4.5-py3-none-any.whl.metadata (9.5 kB)\n",
            "Requirement already satisfied: datasets in /usr/local/lib/python3.12/dist-packages (4.0.0)\n",
            "Requirement already satisfied: filelock in /usr/local/lib/python3.12/dist-packages (from transformers) (3.19.1)\n",
            "Requirement already satisfied: huggingface-hub<1.0,>=0.34.0 in /usr/local/lib/python3.12/dist-packages (from transformers) (0.34.4)\n",
            "Requirement already satisfied: numpy>=1.17 in /usr/local/lib/python3.12/dist-packages (from transformers) (2.0.2)\n",
            "Requirement already satisfied: packaging>=20.0 in /usr/local/lib/python3.12/dist-packages (from transformers) (25.0)\n",
            "Requirement already satisfied: pyyaml>=5.1 in /usr/local/lib/python3.12/dist-packages (from transformers) (6.0.2)\n",
            "Requirement already satisfied: regex!=2019.12.17 in /usr/local/lib/python3.12/dist-packages (from transformers) (2024.11.6)\n",
            "Requirement already satisfied: requests in /usr/local/lib/python3.12/dist-packages (from transformers) (2.32.4)\n",
            "Requirement already satisfied: tokenizers<0.22,>=0.21 in /usr/local/lib/python3.12/dist-packages (from transformers) (0.21.4)\n",
            "Requirement already satisfied: safetensors>=0.4.3 in /usr/local/lib/python3.12/dist-packages (from transformers) (0.6.2)\n",
            "Requirement already satisfied: tqdm>=4.27 in /usr/local/lib/python3.12/dist-packages (from transformers) (4.67.1)\n",
            "Requirement already satisfied: psutil in /usr/local/lib/python3.12/dist-packages (from peft) (5.9.5)\n",
            "Requirement already satisfied: torch>=1.13.0 in /usr/local/lib/python3.12/dist-packages (from peft) (2.8.0+cu126)\n",
            "Requirement already satisfied: accelerate>=0.21.0 in /usr/local/lib/python3.12/dist-packages (from peft) (1.10.1)\n",
            "Requirement already satisfied: dill in /usr/local/lib/python3.12/dist-packages (from evaluate) (0.3.8)\n",
            "Requirement already satisfied: pandas in /usr/local/lib/python3.12/dist-packages (from evaluate) (2.2.2)\n",
            "Requirement already satisfied: xxhash in /usr/local/lib/python3.12/dist-packages (from evaluate) (3.5.0)\n",
            "Requirement already satisfied: multiprocess in /usr/local/lib/python3.12/dist-packages (from evaluate) (0.70.16)\n",
            "Requirement already satisfied: fsspec>=2021.05.0 in /usr/local/lib/python3.12/dist-packages (from fsspec[http]>=2021.05.0->evaluate) (2025.3.0)\n",
            "Requirement already satisfied: pyarrow>=15.0.0 in /usr/local/lib/python3.12/dist-packages (from datasets) (18.1.0)\n",
            "Requirement already satisfied: aiohttp!=4.0.0a0,!=4.0.0a1 in /usr/local/lib/python3.12/dist-packages (from fsspec[http]>=2021.05.0->evaluate) (3.12.15)\n",
            "Requirement already satisfied: typing-extensions>=3.7.4.3 in /usr/local/lib/python3.12/dist-packages (from huggingface-hub<1.0,>=0.34.0->transformers) (4.15.0)\n",
            "Requirement already satisfied: hf-xet<2.0.0,>=1.1.3 in /usr/local/lib/python3.12/dist-packages (from huggingface-hub<1.0,>=0.34.0->transformers) (1.1.8)\n",
            "Requirement already satisfied: charset_normalizer<4,>=2 in /usr/local/lib/python3.12/dist-packages (from requests->transformers) (3.4.3)\n",
            "Requirement already satisfied: idna<4,>=2.5 in /usr/local/lib/python3.12/dist-packages (from requests->transformers) (3.10)\n",
            "Requirement already satisfied: urllib3<3,>=1.21.1 in /usr/local/lib/python3.12/dist-packages (from requests->transformers) (2.5.0)\n",
            "Requirement already satisfied: certifi>=2017.4.17 in /usr/local/lib/python3.12/dist-packages (from requests->transformers) (2025.8.3)\n",
            "Requirement already satisfied: setuptools in /usr/local/lib/python3.12/dist-packages (from torch>=1.13.0->peft) (75.2.0)\n",
            "Requirement already satisfied: sympy>=1.13.3 in /usr/local/lib/python3.12/dist-packages (from torch>=1.13.0->peft) (1.13.3)\n",
            "Requirement already satisfied: networkx in /usr/local/lib/python3.12/dist-packages (from torch>=1.13.0->peft) (3.5)\n",
            "Requirement already satisfied: jinja2 in /usr/local/lib/python3.12/dist-packages (from torch>=1.13.0->peft) (3.1.6)\n",
            "Requirement already satisfied: nvidia-cuda-nvrtc-cu12==12.6.77 in /usr/local/lib/python3.12/dist-packages (from torch>=1.13.0->peft) (12.6.77)\n",
            "Requirement already satisfied: nvidia-cuda-runtime-cu12==12.6.77 in /usr/local/lib/python3.12/dist-packages (from torch>=1.13.0->peft) (12.6.77)\n",
            "Requirement already satisfied: nvidia-cuda-cupti-cu12==12.6.80 in /usr/local/lib/python3.12/dist-packages (from torch>=1.13.0->peft) (12.6.80)\n",
            "Requirement already satisfied: nvidia-cudnn-cu12==9.10.2.21 in /usr/local/lib/python3.12/dist-packages (from torch>=1.13.0->peft) (9.10.2.21)\n",
            "Requirement already satisfied: nvidia-cublas-cu12==12.6.4.1 in /usr/local/lib/python3.12/dist-packages (from torch>=1.13.0->peft) (12.6.4.1)\n",
            "Requirement already satisfied: nvidia-cufft-cu12==11.3.0.4 in /usr/local/lib/python3.12/dist-packages (from torch>=1.13.0->peft) (11.3.0.4)\n",
            "Requirement already satisfied: nvidia-curand-cu12==10.3.7.77 in /usr/local/lib/python3.12/dist-packages (from torch>=1.13.0->peft) (10.3.7.77)\n",
            "Requirement already satisfied: nvidia-cusolver-cu12==11.7.1.2 in /usr/local/lib/python3.12/dist-packages (from torch>=1.13.0->peft) (11.7.1.2)\n",
            "Requirement already satisfied: nvidia-cusparse-cu12==12.5.4.2 in /usr/local/lib/python3.12/dist-packages (from torch>=1.13.0->peft) (12.5.4.2)\n",
            "Requirement already satisfied: nvidia-cusparselt-cu12==0.7.1 in /usr/local/lib/python3.12/dist-packages (from torch>=1.13.0->peft) (0.7.1)\n",
            "Requirement already satisfied: nvidia-nccl-cu12==2.27.3 in /usr/local/lib/python3.12/dist-packages (from torch>=1.13.0->peft) (2.27.3)\n",
            "Requirement already satisfied: nvidia-nvtx-cu12==12.6.77 in /usr/local/lib/python3.12/dist-packages (from torch>=1.13.0->peft) (12.6.77)\n",
            "Requirement already satisfied: nvidia-nvjitlink-cu12==12.6.85 in /usr/local/lib/python3.12/dist-packages (from torch>=1.13.0->peft) (12.6.85)\n",
            "Requirement already satisfied: nvidia-cufile-cu12==1.11.1.6 in /usr/local/lib/python3.12/dist-packages (from torch>=1.13.0->peft) (1.11.1.6)\n",
            "Requirement already satisfied: triton==3.4.0 in /usr/local/lib/python3.12/dist-packages (from torch>=1.13.0->peft) (3.4.0)\n",
            "Requirement already satisfied: python-dateutil>=2.8.2 in /usr/local/lib/python3.12/dist-packages (from pandas->evaluate) (2.9.0.post0)\n",
            "Requirement already satisfied: pytz>=2020.1 in /usr/local/lib/python3.12/dist-packages (from pandas->evaluate) (2025.2)\n",
            "Requirement already satisfied: tzdata>=2022.7 in /usr/local/lib/python3.12/dist-packages (from pandas->evaluate) (2025.2)\n",
            "Requirement already satisfied: aiohappyeyeballs>=2.5.0 in /usr/local/lib/python3.12/dist-packages (from aiohttp!=4.0.0a0,!=4.0.0a1->fsspec[http]>=2021.05.0->evaluate) (2.6.1)\n",
            "Requirement already satisfied: aiosignal>=1.4.0 in /usr/local/lib/python3.12/dist-packages (from aiohttp!=4.0.0a0,!=4.0.0a1->fsspec[http]>=2021.05.0->evaluate) (1.4.0)\n",
            "Requirement already satisfied: attrs>=17.3.0 in /usr/local/lib/python3.12/dist-packages (from aiohttp!=4.0.0a0,!=4.0.0a1->fsspec[http]>=2021.05.0->evaluate) (25.3.0)\n",
            "Requirement already satisfied: frozenlist>=1.1.1 in /usr/local/lib/python3.12/dist-packages (from aiohttp!=4.0.0a0,!=4.0.0a1->fsspec[http]>=2021.05.0->evaluate) (1.7.0)\n",
            "Requirement already satisfied: multidict<7.0,>=4.5 in /usr/local/lib/python3.12/dist-packages (from aiohttp!=4.0.0a0,!=4.0.0a1->fsspec[http]>=2021.05.0->evaluate) (6.6.4)\n",
            "Requirement already satisfied: propcache>=0.2.0 in /usr/local/lib/python3.12/dist-packages (from aiohttp!=4.0.0a0,!=4.0.0a1->fsspec[http]>=2021.05.0->evaluate) (0.3.2)\n",
            "Requirement already satisfied: yarl<2.0,>=1.17.0 in /usr/local/lib/python3.12/dist-packages (from aiohttp!=4.0.0a0,!=4.0.0a1->fsspec[http]>=2021.05.0->evaluate) (1.20.1)\n",
            "Requirement already satisfied: six>=1.5 in /usr/local/lib/python3.12/dist-packages (from python-dateutil>=2.8.2->pandas->evaluate) (1.17.0)\n",
            "Requirement already satisfied: mpmath<1.4,>=1.1.0 in /usr/local/lib/python3.12/dist-packages (from sympy>=1.13.3->torch>=1.13.0->peft) (1.3.0)\n",
            "Requirement already satisfied: MarkupSafe>=2.0 in /usr/local/lib/python3.12/dist-packages (from jinja2->torch>=1.13.0->peft) (3.0.2)\n",
            "Downloading trl-0.22.1-py3-none-any.whl (544 kB)\n",
            "\u001b[2K   \u001b[90m━━━━━━━━━━━━━━━━━━━━━━━━━━━━━━━━━━━━━━━━\u001b[0m \u001b[32m544.8/544.8 kB\u001b[0m \u001b[31m34.8 MB/s\u001b[0m eta \u001b[36m0:00:00\u001b[0m\n",
            "\u001b[?25hDownloading evaluate-0.4.5-py3-none-any.whl (84 kB)\n",
            "\u001b[2K   \u001b[90m━━━━━━━━━━━━━━━━━━━━━━━━━━━━━━━━━━━━━━━━\u001b[0m \u001b[32m84.1/84.1 kB\u001b[0m \u001b[31m8.8 MB/s\u001b[0m eta \u001b[36m0:00:00\u001b[0m\n",
            "\u001b[?25hInstalling collected packages: trl, evaluate\n",
            "Successfully installed evaluate-0.4.5 trl-0.22.1\n"
          ]
        }
      ]
    },
    {
      "cell_type": "code",
      "source": [
        "from datasets import load_dataset\n",
        "from peft import PeftConfig, LoraConfig, get_peft_model\n",
        "\n",
        "from transformers import (\n",
        "    AutoModelForSequenceClassification,\n",
        "    AutoTokenizer,\n",
        "    DataCollatorWithPadding,\n",
        "    Trainer,\n",
        "    TrainingArguments,\n",
        ")\n",
        "\n",
        "import evaluate\n",
        "import numpy as np"
      ],
      "metadata": {
        "id": "3ridSOHIa-SE"
      },
      "execution_count": 2,
      "outputs": []
    },
    {
      "cell_type": "code",
      "source": [
        "dataset_dict = load_dataset(\"shawhin/phishing-site-classification\")\n",
        "dataset_dict"
      ],
      "metadata": {
        "colab": {
          "base_uri": "https://localhost:8080/",
          "height": 484,
          "referenced_widgets": [
            "ad80438a0ec947db8fcea0f52da9313b",
            "e4fed58ccde54734be5c46e0bf5208bc",
            "0810e77cf9344753b18fe9288a310a4e",
            "4c79062fb0274a6a8f27ef1651602728",
            "984cd261c7a54d23a32482e06c99bcdc",
            "91749da9373d4549b95d3913f2b58aec",
            "60849b596cf1490b92e337ef29d60119",
            "0adccf21932245eabd75731cf76a37cc",
            "c43659a25b29472d8797f054e1405916",
            "ee556721e4c6438a8ce2cd095d7947c3",
            "7375883b278b48349f42e02b1a5e9c93",
            "54da1a67516e49988b172e1645dfef1a",
            "e68eaebf105941a08ceb0ebcae372662",
            "7c1654e156004b4299905332c7e8e9fd",
            "49220b9cb9604a168b114ee58a91d140",
            "72fbf9dbc51d47f39ce5c57c61adb910",
            "cef4f5acbeca48dfbf0719c8cd7b79cc",
            "f34c25ffc2524b24b67442ca80ae165e",
            "ed354726e6954128af2c61334197203f",
            "77c6720b33404148ab6d085edff228e5",
            "f70aa31ab91f499aa203dab12a8d620f",
            "d2d588d7f0e145db87893d0f4ae71c03",
            "042dbbfb55c241d3b0d147b70e1194a0",
            "9c61f9b8748c4a348c546a611c654499",
            "1dd15aca24714373b2d898719a0c6659",
            "09a740ad04af4943a6ce5842f9889e46",
            "8074f4d1cb9c4771a210630f565c8959",
            "3bab6693a8924c45af37fe5f32377f93",
            "42d18f5bc6bb4a2ca083f00cfcc0c407",
            "abf2a79bea404f9db12303c614467ae6",
            "c680e433b43e495f91ed117b3a9d5aa2",
            "8c08e32f4755477bac1a16feb3eba2ae",
            "287f1febe4ce48a999633c35e7d3c40a",
            "1b5d28ed410344c79391a4ed71d3cae4",
            "2d8306cd40ee44a599e29816dfa2ae53",
            "bbeb778f5d714c4bb12b9e96029d4402",
            "6e7412b9315441a29940bbd330b7fd90",
            "5b8b8b85f2ea43bc81f9288337f1a047",
            "a5e567015b724b728c840173dc9a4c8f",
            "79479fbb0e684b359a18740c02e37d9e",
            "587fb13673b04a1791795d6d28006cb8",
            "b82f46fb40104e5ba6495a94c8d30659",
            "822fd9db3bc64f57b6a56d99f00c680e",
            "b16b131d4ce643e4bf814f848eb52a60",
            "110ad72b94f5453480854d91fc654e9b",
            "c50cda399e3a4d0eabcf59841e69b6ab",
            "e6d5afbdd49a4cc8b29abc02aa80307c",
            "212f3f4533cc4690bdd177738caa17e6",
            "106136067a7445d1b3faa517db3c6b06",
            "ffd0c46df6fa4729af9eabe0e39453a0",
            "afce70aed3584cbba1c032c293dc6032",
            "f8f7e5b8d7db45409b99b6718bc29eba",
            "c99b3317f18649aa8c986b37225200f3",
            "bcdb1a7b499044f391a15422f70bd5b9",
            "10242431efb7441a84178f3cfc405d02",
            "06b96b382aff4b9e9780f0814b4bf73b",
            "359f6ba45d9c44ee831898ed4528b02c",
            "5626e356612f4a2a85e085184165e3dc",
            "674053b14a564496aa1971a958d58520",
            "5c427d095ae4495a8ba97a7bf6d50735",
            "662eccabf334415b9aa734eea7b142e2",
            "f7d56dbfcdfb48e8ae68556dfedac8a9",
            "006adcf257954472bbbbd2f12440e435",
            "f3bcdbfab8ea4170b8229b92ca8a7b36",
            "80d54c93e0724a999a41d520aea9fac5",
            "9419190ea0964eb8a859e2ab08a4f677",
            "243d69dc0db9440e9de57ee00e86cf42",
            "2865545b38e948e6ba3f8f7734f37939",
            "e4a4a411cb0a44e293fdf38c43ec26a7",
            "868da7d67c1d4a8b920f24f9be4681c2",
            "ca583199fb5a411382db7b9790e35c7b",
            "02d25d5e9b5648879640664ba70216f8",
            "a65bfb27c2a645488926b8eb8a8ebe7d",
            "f4f7418c00c842c08dbcc88850de9bbe",
            "3e4ea66ab2994517a463bce7084c8b2e",
            "ebfdb7dd12a549e793eca5408bc4b823",
            "f189c5e714574a4089554a101353dda8"
          ]
        },
        "id": "R2IOdkYPbflt",
        "outputId": "d7f68d3c-1f9b-49b9-a12e-49b48c8f3ac9"
      },
      "execution_count": 3,
      "outputs": [
        {
          "output_type": "display_data",
          "data": {
            "text/plain": [
              "README.md: 0.00B [00:00, ?B/s]"
            ],
            "application/vnd.jupyter.widget-view+json": {
              "version_major": 2,
              "version_minor": 0,
              "model_id": "ad80438a0ec947db8fcea0f52da9313b"
            }
          },
          "metadata": {}
        },
        {
          "output_type": "display_data",
          "data": {
            "text/plain": [
              "data/train-00000-of-00001.parquet:   0%|          | 0.00/98.0k [00:00<?, ?B/s]"
            ],
            "application/vnd.jupyter.widget-view+json": {
              "version_major": 2,
              "version_minor": 0,
              "model_id": "54da1a67516e49988b172e1645dfef1a"
            }
          },
          "metadata": {}
        },
        {
          "output_type": "display_data",
          "data": {
            "text/plain": [
              "data/validation-00000-of-00001.parquet:   0%|          | 0.00/21.4k [00:00<?, ?B/s]"
            ],
            "application/vnd.jupyter.widget-view+json": {
              "version_major": 2,
              "version_minor": 0,
              "model_id": "042dbbfb55c241d3b0d147b70e1194a0"
            }
          },
          "metadata": {}
        },
        {
          "output_type": "display_data",
          "data": {
            "text/plain": [
              "data/test-00000-of-00001.parquet:   0%|          | 0.00/24.5k [00:00<?, ?B/s]"
            ],
            "application/vnd.jupyter.widget-view+json": {
              "version_major": 2,
              "version_minor": 0,
              "model_id": "1b5d28ed410344c79391a4ed71d3cae4"
            }
          },
          "metadata": {}
        },
        {
          "output_type": "display_data",
          "data": {
            "text/plain": [
              "Generating train split:   0%|          | 0/2100 [00:00<?, ? examples/s]"
            ],
            "application/vnd.jupyter.widget-view+json": {
              "version_major": 2,
              "version_minor": 0,
              "model_id": "110ad72b94f5453480854d91fc654e9b"
            }
          },
          "metadata": {}
        },
        {
          "output_type": "display_data",
          "data": {
            "text/plain": [
              "Generating validation split:   0%|          | 0/450 [00:00<?, ? examples/s]"
            ],
            "application/vnd.jupyter.widget-view+json": {
              "version_major": 2,
              "version_minor": 0,
              "model_id": "06b96b382aff4b9e9780f0814b4bf73b"
            }
          },
          "metadata": {}
        },
        {
          "output_type": "display_data",
          "data": {
            "text/plain": [
              "Generating test split:   0%|          | 0/450 [00:00<?, ? examples/s]"
            ],
            "application/vnd.jupyter.widget-view+json": {
              "version_major": 2,
              "version_minor": 0,
              "model_id": "243d69dc0db9440e9de57ee00e86cf42"
            }
          },
          "metadata": {}
        },
        {
          "output_type": "execute_result",
          "data": {
            "text/plain": [
              "DatasetDict({\n",
              "    train: Dataset({\n",
              "        features: ['text', 'labels'],\n",
              "        num_rows: 2100\n",
              "    })\n",
              "    validation: Dataset({\n",
              "        features: ['text', 'labels'],\n",
              "        num_rows: 450\n",
              "    })\n",
              "    test: Dataset({\n",
              "        features: ['text', 'labels'],\n",
              "        num_rows: 450\n",
              "    })\n",
              "})"
            ]
          },
          "metadata": {},
          "execution_count": 3
        }
      ]
    },
    {
      "cell_type": "code",
      "source": [
        "model_path = \"google-bert/bert-base-uncased\"\n",
        "tokenizer = AutoTokenizer.from_pretrained(model_path)\n",
        "\n",
        "id2label = {0: \"benign\", 1: \"malicious\"}\n",
        "label2id = {\"benign\": 0, \"malicious\": 1}\n",
        "\n",
        "model = AutoModelForSequenceClassification.from_pretrained(model_path,\n",
        "                                            num_labels = 2,\n",
        "                                            id2label = id2label,\n",
        "                                            label2id = label2id)"
      ],
      "metadata": {
        "colab": {
          "base_uri": "https://localhost:8080/",
          "height": 104,
          "referenced_widgets": [
            "3e418f070bc74cadab52ef0767e381de",
            "469cc65410a04025bfdfcf9b797bb7f4",
            "66fbe8d179fe4ee8a842a53e1f295bd2",
            "4c1289a0fb5f4043871681b77dad02b8",
            "2468381a3a4e4e518cbedf74a01ca7ca",
            "a4da62ed46824aa9863859dc05936511",
            "3f3c52456a564c47b327e689e00f7a21",
            "732c016b224d4f35a77e41b0d63e91c0",
            "6581445af93e4a9796b2ed7b8832e102",
            "4b3d2d9f8b884666a664a8b4bfc78d34",
            "020131e321594c23824bb2dcdb55a661"
          ]
        },
        "id": "RbqrOV_mbv5p",
        "outputId": "d3e5e72d-83fc-4035-a43d-5f1df9aef292"
      },
      "execution_count": 5,
      "outputs": [
        {
          "output_type": "display_data",
          "data": {
            "text/plain": [
              "model.safetensors:   0%|          | 0.00/440M [00:00<?, ?B/s]"
            ],
            "application/vnd.jupyter.widget-view+json": {
              "version_major": 2,
              "version_minor": 0,
              "model_id": "3e418f070bc74cadab52ef0767e381de"
            }
          },
          "metadata": {}
        },
        {
          "output_type": "stream",
          "name": "stderr",
          "text": [
            "Some weights of BertForSequenceClassification were not initialized from the model checkpoint at google-bert/bert-base-uncased and are newly initialized: ['classifier.bias', 'classifier.weight']\n",
            "You should probably TRAIN this model on a down-stream task to be able to use it for predictions and inference.\n"
          ]
        }
      ]
    },
    {
      "cell_type": "code",
      "source": [
        "# set trainable params\n",
        "\n",
        "# freeze all base model parameters\n",
        "for name, param in model.base_model.named_parameters():\n",
        "    param.requires_grad = False\n",
        "\n",
        "# unfreeze base model pooling layers\n",
        "for name, param in model.base_model.named_parameters():\n",
        "    if \"pooler\" in name:\n",
        "        param.requires_grad = True"
      ],
      "metadata": {
        "id": "k1qVNLOncTZJ"
      },
      "execution_count": 6,
      "outputs": []
    },
    {
      "cell_type": "code",
      "source": [
        "# data preprocessing\n",
        "\n",
        "def preprocess_text(examples):\n",
        "  return tokenizer(examples['text'], truncation=True)\n",
        "\n",
        "tokenized_dataset = dataset_dict.map(preprocess_text, batched=True)\n",
        "\n",
        "# create data collator\n",
        "data_collator = DataCollatorWithPadding(tokenizer=tokenizer) # to make sure very example in batch is of same size"
      ],
      "metadata": {
        "colab": {
          "base_uri": "https://localhost:8080/",
          "height": 113,
          "referenced_widgets": [
            "a0f11200d87f4fe88feb50ca7a104ee1",
            "3e1510ae4f5042f6ac283fa1ee2ddbf2",
            "5087146d33804ad6a42172c3aa64668a",
            "2c1121d86c7e49b597505a574806a337",
            "b430674d1d0648acb1c968961e6e2397",
            "48bbce6ab0da4c3a9b29345839e3d381",
            "9dda6bbaa0614d689e09d21d3a5e1030",
            "fabc0ca6cb9e470a9aabc91c31deee64",
            "d3a85923e839415886d58eb432dd45e2",
            "079bf0664f6c49b6aab4374c4003ac84",
            "87b655c823df4f8ea70de893127ae197",
            "7253809813fa4921a078789798ac12bc",
            "d842e87af4de46d58ff8026adf57e664",
            "4ff18f957c4742388f72a47336b3dbd7",
            "10a4dc724dea4adc8e12b1a07ca98f89",
            "ae476f5da74b4c0b884a5559a07ccb8a",
            "cba0bd53ff9d413b86f4c225c2c06f84",
            "fc7e6511426b4f5eaca2f594339c1064",
            "4d010ae3d3d74ab7bfcf3faba5c048f5",
            "92a4e03a07b6492786f4c248119a12d5",
            "fcbc2609f5a9461587fffbb662e31e9a",
            "e30dcce3ed60408c9f883b5e47747f4b",
            "3a47625c94a44aaa826f7426a2532d19",
            "2abf280564ca4b7db6112788e61774f3",
            "302f8f3b7336421498f4630100c9c951",
            "3ff1716ec0dc4009a24b025eee72fd6c",
            "e62136a2cccf442199b18bb388e9696d",
            "354aa67f99774348a652a4e8c5642431",
            "b2f1974c2d8345058881148563253130",
            "d1734e3682634305888529f1d568ac66",
            "9a8a47af96ea4e7bb44e56c29d85614b",
            "210777c1cfaf440fa7db134bc9a341ce",
            "a8b829abfffd4359a2436ee3c2cb3d7c"
          ]
        },
        "id": "daUKnqV4eYPp",
        "outputId": "f62728da-b5ab-424f-87fe-8a2df476a2d2"
      },
      "execution_count": 7,
      "outputs": [
        {
          "output_type": "display_data",
          "data": {
            "text/plain": [
              "Map:   0%|          | 0/2100 [00:00<?, ? examples/s]"
            ],
            "application/vnd.jupyter.widget-view+json": {
              "version_major": 2,
              "version_minor": 0,
              "model_id": "a0f11200d87f4fe88feb50ca7a104ee1"
            }
          },
          "metadata": {}
        },
        {
          "output_type": "display_data",
          "data": {
            "text/plain": [
              "Map:   0%|          | 0/450 [00:00<?, ? examples/s]"
            ],
            "application/vnd.jupyter.widget-view+json": {
              "version_major": 2,
              "version_minor": 0,
              "model_id": "7253809813fa4921a078789798ac12bc"
            }
          },
          "metadata": {}
        },
        {
          "output_type": "display_data",
          "data": {
            "text/plain": [
              "Map:   0%|          | 0/450 [00:00<?, ? examples/s]"
            ],
            "application/vnd.jupyter.widget-view+json": {
              "version_major": 2,
              "version_minor": 0,
              "model_id": "3a47625c94a44aaa826f7426a2532d19"
            }
          },
          "metadata": {}
        }
      ]
    },
    {
      "cell_type": "code",
      "source": [
        "# def eval metrics\n",
        "\n",
        "accuracy = evaluate.load('accuracy')\n",
        "auc_score = evaluate.load('roc_auc')\n",
        "\n",
        "def compute_metrics(eval_pred):\n",
        "    # get preds\n",
        "    predictions, labels = eval_pred\n",
        "\n",
        "    # apply softmax to get probabilities\n",
        "    probabilities = np.exp(predictions) / np.exp(predictions).sum(-1,\n",
        "                                                                  keepdims=True)\n",
        "\n",
        "    # use probabilities of positive class for ROC AUC\n",
        "    positive_class_probs = probabilities[:, 1]\n",
        "\n",
        "    # compute auc\n",
        "    auc = np.round(auc_score.compute(prediction_scores = positive_class_probs,\n",
        "                                     references = labels)['roc_auc'], 3)\n",
        "\n",
        "    # predict most probable class\n",
        "    predicted_classes = np.argmax(probabilities, axis = 1)\n",
        "\n",
        "    # compute accuracy\n",
        "    acc = np.round(accuracy.compute(predictions = predicted_classes,\n",
        "                                                references = labels)['accuracy'], 3)\n",
        "\n",
        "    return {'accuracy': acc, 'AUC': auc}\n"
      ],
      "metadata": {
        "colab": {
          "base_uri": "https://localhost:8080/",
          "height": 49,
          "referenced_widgets": [
            "a31d221ca03e41b0810c4fa7d56081ab",
            "41ee69515ce943b7b6f93d9fd6e97e82",
            "03d5b99d99ff41218a05998ab59b0a41",
            "d66e9cdf89154783bdcfc875931e8038",
            "596c347f0eb749c1bad74586234bb6dc",
            "5c87ac29a00e439aa5b13acf7d0a4f12",
            "8b4951bb3a2542e99d4d27849f5de5d4",
            "1833d6432dd345d4946222ab736495ce",
            "94bd5b6b058843ac91cd65957e1781e2",
            "a05814d300bf403880aa0be11ec407af",
            "e7e49969e52349709da7fc04e093fffd"
          ]
        },
        "id": "3u_I2sYKex73",
        "outputId": "b1655b04-79ed-4cf6-b3e7-c82e75d49ce2"
      },
      "execution_count": 12,
      "outputs": [
        {
          "output_type": "display_data",
          "data": {
            "text/plain": [
              "Downloading builder script: 0.00B [00:00, ?B/s]"
            ],
            "application/vnd.jupyter.widget-view+json": {
              "version_major": 2,
              "version_minor": 0,
              "model_id": "a31d221ca03e41b0810c4fa7d56081ab"
            }
          },
          "metadata": {}
        }
      ]
    },
    {
      "cell_type": "code",
      "source": [
        "# training params\n",
        "lr = 2e-4\n",
        "batch_size = 8\n",
        "num_epochs = 10\n",
        "\n",
        "training_args = TrainingArguments(\n",
        "    output_dir = \"bert-phishing-classifer_teacher\",\n",
        "    learning_rate = lr,\n",
        "    per_device_train_batch_size = batch_size,\n",
        "    per_device_eval_batch_size = batch_size,\n",
        "    num_train_epochs = num_epochs,\n",
        "    weight_decay = 0.01,\n",
        "    logging_strategy = \"epoch\",\n",
        "    eval_strategy = \"epoch\",\n",
        "    save_strategy = \"epoch\",\n",
        "    load_best_model_at_end = True,\n",
        ")"
      ],
      "metadata": {
        "id": "-zsOb7pYgcUk"
      },
      "execution_count": 13,
      "outputs": []
    },
    {
      "cell_type": "code",
      "source": [
        "trainer = Trainer (\n",
        "    model = model,\n",
        "    args = training_args,\n",
        "    train_dataset = tokenized_dataset[\"train\"],\n",
        "    eval_dataset = tokenized_dataset[\"test\"],\n",
        "    tokenizer = tokenizer,\n",
        "    data_collator = data_collator,\n",
        "    compute_metrics = compute_metrics,\n",
        ")\n",
        "\n",
        "trainer.train()"
      ],
      "metadata": {
        "colab": {
          "base_uri": "https://localhost:8080/",
          "height": 736
        },
        "id": "C69DBaf_iCX9",
        "outputId": "30fcea2b-ef56-4011-937d-81d5a507d647"
      },
      "execution_count": 14,
      "outputs": [
        {
          "output_type": "stream",
          "name": "stderr",
          "text": [
            "/tmp/ipython-input-1165136351.py:1: FutureWarning: `tokenizer` is deprecated and will be removed in version 5.0.0 for `Trainer.__init__`. Use `processing_class` instead.\n",
            "  trainer = Trainer (\n",
            "/usr/local/lib/python3.12/dist-packages/notebook/notebookapp.py:191: SyntaxWarning: invalid escape sequence '\\/'\n",
            "  | |_| | '_ \\/ _` / _` |  _/ -_)\n"
          ]
        },
        {
          "output_type": "display_data",
          "data": {
            "text/plain": [
              "<IPython.core.display.Javascript object>"
            ],
            "application/javascript": [
              "\n",
              "        window._wandbApiKey = new Promise((resolve, reject) => {\n",
              "            function loadScript(url) {\n",
              "            return new Promise(function(resolve, reject) {\n",
              "                let newScript = document.createElement(\"script\");\n",
              "                newScript.onerror = reject;\n",
              "                newScript.onload = resolve;\n",
              "                document.body.appendChild(newScript);\n",
              "                newScript.src = url;\n",
              "            });\n",
              "            }\n",
              "            loadScript(\"https://cdn.jsdelivr.net/npm/postmate/build/postmate.min.js\").then(() => {\n",
              "            const iframe = document.createElement('iframe')\n",
              "            iframe.style.cssText = \"width:0;height:0;border:none\"\n",
              "            document.body.appendChild(iframe)\n",
              "            const handshake = new Postmate({\n",
              "                container: iframe,\n",
              "                url: 'https://wandb.ai/authorize'\n",
              "            });\n",
              "            const timeout = setTimeout(() => reject(\"Couldn't auto authenticate\"), 5000)\n",
              "            handshake.then(function(child) {\n",
              "                child.on('authorize', data => {\n",
              "                    clearTimeout(timeout)\n",
              "                    resolve(data)\n",
              "                });\n",
              "            });\n",
              "            })\n",
              "        });\n",
              "    "
            ]
          },
          "metadata": {}
        },
        {
          "output_type": "stream",
          "name": "stderr",
          "text": [
            "\u001b[34m\u001b[1mwandb\u001b[0m: Logging into wandb.ai. (Learn how to deploy a W&B server locally: https://wandb.me/wandb-server)\n",
            "\u001b[34m\u001b[1mwandb\u001b[0m: You can find your API key in your browser here: https://wandb.ai/authorize?ref=models\n",
            "wandb: Paste an API key from your profile and hit enter:"
          ]
        },
        {
          "name": "stdout",
          "output_type": "stream",
          "text": [
            " ··········\n"
          ]
        },
        {
          "output_type": "stream",
          "name": "stderr",
          "text": [
            "\u001b[34m\u001b[1mwandb\u001b[0m: \u001b[33mWARNING\u001b[0m If you're specifying your api key in code, ensure this code is not shared publicly.\n",
            "\u001b[34m\u001b[1mwandb\u001b[0m: \u001b[33mWARNING\u001b[0m Consider setting the WANDB_API_KEY environment variable, or running `wandb login` from the command line.\n",
            "\u001b[34m\u001b[1mwandb\u001b[0m: No netrc file found, creating one.\n",
            "\u001b[34m\u001b[1mwandb\u001b[0m: Appending key for api.wandb.ai to your netrc file: /root/.netrc\n",
            "\u001b[34m\u001b[1mwandb\u001b[0m: Currently logged in as: \u001b[33mshivangshandilya83\u001b[0m (\u001b[33mshivangshandilya83-independent\u001b[0m) to \u001b[32mhttps://api.wandb.ai\u001b[0m. Use \u001b[1m`wandb login --relogin`\u001b[0m to force relogin\n"
          ]
        },
        {
          "output_type": "display_data",
          "data": {
            "text/plain": [
              "<IPython.core.display.HTML object>"
            ],
            "text/html": [
              "Tracking run with wandb version 0.21.1"
            ]
          },
          "metadata": {}
        },
        {
          "output_type": "display_data",
          "data": {
            "text/plain": [
              "<IPython.core.display.HTML object>"
            ],
            "text/html": [
              "Run data is saved locally in <code>/content/wandb/run-20250830_151209-5uqg5phn</code>"
            ]
          },
          "metadata": {}
        },
        {
          "output_type": "display_data",
          "data": {
            "text/plain": [
              "<IPython.core.display.HTML object>"
            ],
            "text/html": [
              "Syncing run <strong><a href='https://wandb.ai/shivangshandilya83-independent/huggingface/runs/5uqg5phn' target=\"_blank\">kind-snowflake-3</a></strong> to <a href='https://wandb.ai/shivangshandilya83-independent/huggingface' target=\"_blank\">Weights & Biases</a> (<a href='https://wandb.me/developer-guide' target=\"_blank\">docs</a>)<br>"
            ]
          },
          "metadata": {}
        },
        {
          "output_type": "display_data",
          "data": {
            "text/plain": [
              "<IPython.core.display.HTML object>"
            ],
            "text/html": [
              " View project at <a href='https://wandb.ai/shivangshandilya83-independent/huggingface' target=\"_blank\">https://wandb.ai/shivangshandilya83-independent/huggingface</a>"
            ]
          },
          "metadata": {}
        },
        {
          "output_type": "display_data",
          "data": {
            "text/plain": [
              "<IPython.core.display.HTML object>"
            ],
            "text/html": [
              " View run at <a href='https://wandb.ai/shivangshandilya83-independent/huggingface/runs/5uqg5phn' target=\"_blank\">https://wandb.ai/shivangshandilya83-independent/huggingface/runs/5uqg5phn</a>"
            ]
          },
          "metadata": {}
        },
        {
          "output_type": "display_data",
          "data": {
            "text/plain": [
              "<IPython.core.display.HTML object>"
            ],
            "text/html": [
              "\n",
              "    <div>\n",
              "      \n",
              "      <progress value='2630' max='2630' style='width:300px; height:20px; vertical-align: middle;'></progress>\n",
              "      [2630/2630 03:11, Epoch 10/10]\n",
              "    </div>\n",
              "    <table border=\"1\" class=\"dataframe\">\n",
              "  <thead>\n",
              " <tr style=\"text-align: left;\">\n",
              "      <th>Epoch</th>\n",
              "      <th>Training Loss</th>\n",
              "      <th>Validation Loss</th>\n",
              "      <th>Accuracy</th>\n",
              "      <th>Auc</th>\n",
              "    </tr>\n",
              "  </thead>\n",
              "  <tbody>\n",
              "    <tr>\n",
              "      <td>1</td>\n",
              "      <td>0.503700</td>\n",
              "      <td>0.384133</td>\n",
              "      <td>0.811000</td>\n",
              "      <td>0.911000</td>\n",
              "    </tr>\n",
              "    <tr>\n",
              "      <td>2</td>\n",
              "      <td>0.407700</td>\n",
              "      <td>0.338099</td>\n",
              "      <td>0.847000</td>\n",
              "      <td>0.930000</td>\n",
              "    </tr>\n",
              "    <tr>\n",
              "      <td>3</td>\n",
              "      <td>0.357700</td>\n",
              "      <td>0.313102</td>\n",
              "      <td>0.853000</td>\n",
              "      <td>0.939000</td>\n",
              "    </tr>\n",
              "    <tr>\n",
              "      <td>4</td>\n",
              "      <td>0.355700</td>\n",
              "      <td>0.353034</td>\n",
              "      <td>0.849000</td>\n",
              "      <td>0.945000</td>\n",
              "    </tr>\n",
              "    <tr>\n",
              "      <td>5</td>\n",
              "      <td>0.352200</td>\n",
              "      <td>0.338283</td>\n",
              "      <td>0.862000</td>\n",
              "      <td>0.948000</td>\n",
              "    </tr>\n",
              "    <tr>\n",
              "      <td>6</td>\n",
              "      <td>0.348700</td>\n",
              "      <td>0.292409</td>\n",
              "      <td>0.873000</td>\n",
              "      <td>0.950000</td>\n",
              "    </tr>\n",
              "    <tr>\n",
              "      <td>7</td>\n",
              "      <td>0.333800</td>\n",
              "      <td>0.287450</td>\n",
              "      <td>0.876000</td>\n",
              "      <td>0.950000</td>\n",
              "    </tr>\n",
              "    <tr>\n",
              "      <td>8</td>\n",
              "      <td>0.314200</td>\n",
              "      <td>0.288594</td>\n",
              "      <td>0.869000</td>\n",
              "      <td>0.950000</td>\n",
              "    </tr>\n",
              "    <tr>\n",
              "      <td>9</td>\n",
              "      <td>0.313700</td>\n",
              "      <td>0.284354</td>\n",
              "      <td>0.873000</td>\n",
              "      <td>0.951000</td>\n",
              "    </tr>\n",
              "    <tr>\n",
              "      <td>10</td>\n",
              "      <td>0.313500</td>\n",
              "      <td>0.288827</td>\n",
              "      <td>0.871000</td>\n",
              "      <td>0.951000</td>\n",
              "    </tr>\n",
              "  </tbody>\n",
              "</table><p>"
            ]
          },
          "metadata": {}
        },
        {
          "output_type": "execute_result",
          "data": {
            "text/plain": [
              "TrainOutput(global_step=2630, training_loss=0.36009377889306826, metrics={'train_runtime': 214.0155, 'train_samples_per_second': 98.124, 'train_steps_per_second': 12.289, 'total_flos': 706603239165360.0, 'train_loss': 0.36009377889306826, 'epoch': 10.0})"
            ]
          },
          "metadata": {},
          "execution_count": 14
        }
      ]
    },
    {
      "cell_type": "code",
      "source": [],
      "metadata": {
        "id": "dps5w2_KiNz2"
      },
      "execution_count": null,
      "outputs": []
    }
  ]
}
